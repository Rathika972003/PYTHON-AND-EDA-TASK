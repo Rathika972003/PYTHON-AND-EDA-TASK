{
 "cells": [
  {
   "cell_type": "code",
   "execution_count": 1,
   "id": "d5d1d148-d9a6-4117-833e-4740edef5804",
   "metadata": {},
   "outputs": [],
   "source": [
    "import pandas as pd  \n",
    "import numpy as np \n",
    "import matplotlib.pyplot as plt  \n",
    "import seaborn as sns"
   ]
  },
  {
   "cell_type": "code",
   "execution_count": 3,
   "id": "915dbd64-24a9-4b97-a1a9-1c907e9db494",
   "metadata": {},
   "outputs": [],
   "source": [
    "df = pd.read_csv(\"C:/Users/rathi/Downloads/sales_data Task 1.csv\")"
   ]
  },
  {
   "cell_type": "code",
   "execution_count": 5,
   "id": "77108864-e5de-4a05-8b4a-54548fcd95f9",
   "metadata": {},
   "outputs": [
    {
     "data": {
      "text/html": [
       "<div>\n",
       "<style scoped>\n",
       "    .dataframe tbody tr th:only-of-type {\n",
       "        vertical-align: middle;\n",
       "    }\n",
       "\n",
       "    .dataframe tbody tr th {\n",
       "        vertical-align: top;\n",
       "    }\n",
       "\n",
       "    .dataframe thead th {\n",
       "        text-align: right;\n",
       "    }\n",
       "</style>\n",
       "<table border=\"1\" class=\"dataframe\">\n",
       "  <thead>\n",
       "    <tr style=\"text-align: right;\">\n",
       "      <th></th>\n",
       "      <th>Date</th>\n",
       "      <th>Product</th>\n",
       "      <th>Region</th>\n",
       "      <th>Sales Rep</th>\n",
       "      <th>Sales Amount</th>\n",
       "      <th>Profit</th>\n",
       "      <th>Units Sold</th>\n",
       "    </tr>\n",
       "  </thead>\n",
       "  <tbody>\n",
       "    <tr>\n",
       "      <th>0</th>\n",
       "      <td>03-05-2024</td>\n",
       "      <td>Laptop</td>\n",
       "      <td>North</td>\n",
       "      <td>Charlie</td>\n",
       "      <td>955.47</td>\n",
       "      <td>51.83</td>\n",
       "      <td>4</td>\n",
       "    </tr>\n",
       "    <tr>\n",
       "      <th>1</th>\n",
       "      <td>10-03-2024</td>\n",
       "      <td>Headphones</td>\n",
       "      <td>West</td>\n",
       "      <td>Charlie</td>\n",
       "      <td>784.11</td>\n",
       "      <td>299.66</td>\n",
       "      <td>4</td>\n",
       "    </tr>\n",
       "    <tr>\n",
       "      <th>2</th>\n",
       "      <td>20-02-2024</td>\n",
       "      <td>Smartphone</td>\n",
       "      <td>North</td>\n",
       "      <td>Charlie</td>\n",
       "      <td>1222.00</td>\n",
       "      <td>362.96</td>\n",
       "      <td>32</td>\n",
       "    </tr>\n",
       "    <tr>\n",
       "      <th>3</th>\n",
       "      <td>22-03-2024</td>\n",
       "      <td>Tablet</td>\n",
       "      <td>South</td>\n",
       "      <td>David</td>\n",
       "      <td>1874.16</td>\n",
       "      <td>122.37</td>\n",
       "      <td>28</td>\n",
       "    </tr>\n",
       "    <tr>\n",
       "      <th>4</th>\n",
       "      <td>14-06-2024</td>\n",
       "      <td>Laptop</td>\n",
       "      <td>East</td>\n",
       "      <td>Bob</td>\n",
       "      <td>545.67</td>\n",
       "      <td>418.81</td>\n",
       "      <td>45</td>\n",
       "    </tr>\n",
       "    <tr>\n",
       "      <th>...</th>\n",
       "      <td>...</td>\n",
       "      <td>...</td>\n",
       "      <td>...</td>\n",
       "      <td>...</td>\n",
       "      <td>...</td>\n",
       "      <td>...</td>\n",
       "      <td>...</td>\n",
       "    </tr>\n",
       "    <tr>\n",
       "      <th>145</th>\n",
       "      <td>27-03-2024</td>\n",
       "      <td>Monitor</td>\n",
       "      <td>North</td>\n",
       "      <td>David</td>\n",
       "      <td>427.51</td>\n",
       "      <td>357.97</td>\n",
       "      <td>39</td>\n",
       "    </tr>\n",
       "    <tr>\n",
       "      <th>146</th>\n",
       "      <td>05-05-2024</td>\n",
       "      <td>Smartwatch</td>\n",
       "      <td>North</td>\n",
       "      <td>Bob</td>\n",
       "      <td>1473.69</td>\n",
       "      <td>175.26</td>\n",
       "      <td>48</td>\n",
       "    </tr>\n",
       "    <tr>\n",
       "      <th>147</th>\n",
       "      <td>28-02-2024</td>\n",
       "      <td>Smartwatch</td>\n",
       "      <td>East</td>\n",
       "      <td>David</td>\n",
       "      <td>573.76</td>\n",
       "      <td>133.83</td>\n",
       "      <td>36</td>\n",
       "    </tr>\n",
       "    <tr>\n",
       "      <th>148</th>\n",
       "      <td>16-04-2024</td>\n",
       "      <td>Smartphone</td>\n",
       "      <td>North</td>\n",
       "      <td>Alice</td>\n",
       "      <td>1516.70</td>\n",
       "      <td>204.96</td>\n",
       "      <td>21</td>\n",
       "    </tr>\n",
       "    <tr>\n",
       "      <th>149</th>\n",
       "      <td>13-02-2024</td>\n",
       "      <td>Smartwatch</td>\n",
       "      <td>Central</td>\n",
       "      <td>Alice</td>\n",
       "      <td>149.87</td>\n",
       "      <td>355.41</td>\n",
       "      <td>38</td>\n",
       "    </tr>\n",
       "  </tbody>\n",
       "</table>\n",
       "<p>150 rows × 7 columns</p>\n",
       "</div>"
      ],
      "text/plain": [
       "           Date     Product   Region Sales Rep  Sales Amount  Profit  \\\n",
       "0    03-05-2024      Laptop    North   Charlie        955.47   51.83   \n",
       "1    10-03-2024  Headphones     West   Charlie        784.11  299.66   \n",
       "2    20-02-2024  Smartphone    North   Charlie       1222.00  362.96   \n",
       "3    22-03-2024      Tablet    South     David       1874.16  122.37   \n",
       "4    14-06-2024      Laptop     East       Bob        545.67  418.81   \n",
       "..          ...         ...      ...       ...           ...     ...   \n",
       "145  27-03-2024     Monitor    North     David        427.51  357.97   \n",
       "146  05-05-2024  Smartwatch    North       Bob       1473.69  175.26   \n",
       "147  28-02-2024  Smartwatch     East     David        573.76  133.83   \n",
       "148  16-04-2024  Smartphone    North     Alice       1516.70  204.96   \n",
       "149  13-02-2024  Smartwatch  Central     Alice        149.87  355.41   \n",
       "\n",
       "     Units Sold  \n",
       "0             4  \n",
       "1             4  \n",
       "2            32  \n",
       "3            28  \n",
       "4            45  \n",
       "..          ...  \n",
       "145          39  \n",
       "146          48  \n",
       "147          36  \n",
       "148          21  \n",
       "149          38  \n",
       "\n",
       "[150 rows x 7 columns]"
      ]
     },
     "execution_count": 5,
     "metadata": {},
     "output_type": "execute_result"
    }
   ],
   "source": [
    "df"
   ]
  },
  {
   "cell_type": "code",
   "execution_count": 7,
   "id": "f8307c49-4591-44b9-b5b9-b0ffa32b24cd",
   "metadata": {},
   "outputs": [
    {
     "data": {
      "text/html": [
       "<div>\n",
       "<style scoped>\n",
       "    .dataframe tbody tr th:only-of-type {\n",
       "        vertical-align: middle;\n",
       "    }\n",
       "\n",
       "    .dataframe tbody tr th {\n",
       "        vertical-align: top;\n",
       "    }\n",
       "\n",
       "    .dataframe thead th {\n",
       "        text-align: right;\n",
       "    }\n",
       "</style>\n",
       "<table border=\"1\" class=\"dataframe\">\n",
       "  <thead>\n",
       "    <tr style=\"text-align: right;\">\n",
       "      <th></th>\n",
       "      <th>Date</th>\n",
       "      <th>Product</th>\n",
       "      <th>Region</th>\n",
       "      <th>Sales Rep</th>\n",
       "      <th>Sales Amount</th>\n",
       "      <th>Profit</th>\n",
       "      <th>Units Sold</th>\n",
       "    </tr>\n",
       "  </thead>\n",
       "  <tbody>\n",
       "    <tr>\n",
       "      <th>0</th>\n",
       "      <td>03-05-2024</td>\n",
       "      <td>Laptop</td>\n",
       "      <td>North</td>\n",
       "      <td>Charlie</td>\n",
       "      <td>955.47</td>\n",
       "      <td>51.83</td>\n",
       "      <td>4</td>\n",
       "    </tr>\n",
       "    <tr>\n",
       "      <th>1</th>\n",
       "      <td>10-03-2024</td>\n",
       "      <td>Headphones</td>\n",
       "      <td>West</td>\n",
       "      <td>Charlie</td>\n",
       "      <td>784.11</td>\n",
       "      <td>299.66</td>\n",
       "      <td>4</td>\n",
       "    </tr>\n",
       "    <tr>\n",
       "      <th>2</th>\n",
       "      <td>20-02-2024</td>\n",
       "      <td>Smartphone</td>\n",
       "      <td>North</td>\n",
       "      <td>Charlie</td>\n",
       "      <td>1222.00</td>\n",
       "      <td>362.96</td>\n",
       "      <td>32</td>\n",
       "    </tr>\n",
       "    <tr>\n",
       "      <th>3</th>\n",
       "      <td>22-03-2024</td>\n",
       "      <td>Tablet</td>\n",
       "      <td>South</td>\n",
       "      <td>David</td>\n",
       "      <td>1874.16</td>\n",
       "      <td>122.37</td>\n",
       "      <td>28</td>\n",
       "    </tr>\n",
       "    <tr>\n",
       "      <th>4</th>\n",
       "      <td>14-06-2024</td>\n",
       "      <td>Laptop</td>\n",
       "      <td>East</td>\n",
       "      <td>Bob</td>\n",
       "      <td>545.67</td>\n",
       "      <td>418.81</td>\n",
       "      <td>45</td>\n",
       "    </tr>\n",
       "  </tbody>\n",
       "</table>\n",
       "</div>"
      ],
      "text/plain": [
       "         Date     Product Region Sales Rep  Sales Amount  Profit  Units Sold\n",
       "0  03-05-2024      Laptop  North   Charlie        955.47   51.83           4\n",
       "1  10-03-2024  Headphones   West   Charlie        784.11  299.66           4\n",
       "2  20-02-2024  Smartphone  North   Charlie       1222.00  362.96          32\n",
       "3  22-03-2024      Tablet  South     David       1874.16  122.37          28\n",
       "4  14-06-2024      Laptop   East       Bob        545.67  418.81          45"
      ]
     },
     "execution_count": 7,
     "metadata": {},
     "output_type": "execute_result"
    }
   ],
   "source": [
    "df.head(5)"
   ]
  },
  {
   "cell_type": "code",
   "execution_count": 9,
   "id": "45a47549-320b-482a-8bac-915f56cef5a8",
   "metadata": {},
   "outputs": [
    {
     "name": "stdout",
     "output_type": "stream",
     "text": [
      "<class 'pandas.core.frame.DataFrame'>\n",
      "RangeIndex: 150 entries, 0 to 149\n",
      "Data columns (total 7 columns):\n",
      " #   Column        Non-Null Count  Dtype  \n",
      "---  ------        --------------  -----  \n",
      " 0   Date          150 non-null    object \n",
      " 1   Product       150 non-null    object \n",
      " 2   Region        150 non-null    object \n",
      " 3   Sales Rep     150 non-null    object \n",
      " 4   Sales Amount  150 non-null    float64\n",
      " 5   Profit        150 non-null    float64\n",
      " 6   Units Sold    150 non-null    int64  \n",
      "dtypes: float64(2), int64(1), object(4)\n",
      "memory usage: 8.3+ KB\n"
     ]
    }
   ],
   "source": [
    "df.info()"
   ]
  },
  {
   "cell_type": "code",
   "execution_count": 11,
   "id": "abf010de-76e5-4a57-9d65-21bb81bc98df",
   "metadata": {},
   "outputs": [
    {
     "data": {
      "text/plain": [
       "Date            0\n",
       "Product         0\n",
       "Region          0\n",
       "Sales Rep       0\n",
       "Sales Amount    0\n",
       "Profit          0\n",
       "Units Sold      0\n",
       "dtype: int64"
      ]
     },
     "execution_count": 11,
     "metadata": {},
     "output_type": "execute_result"
    }
   ],
   "source": [
    "df.isnull().sum() "
   ]
  },
  {
   "cell_type": "code",
   "execution_count": 13,
   "id": "6cbcdc5f-1eb8-470f-afc8-244ae4cbcb8d",
   "metadata": {},
   "outputs": [
    {
     "data": {
      "text/html": [
       "<div>\n",
       "<style scoped>\n",
       "    .dataframe tbody tr th:only-of-type {\n",
       "        vertical-align: middle;\n",
       "    }\n",
       "\n",
       "    .dataframe tbody tr th {\n",
       "        vertical-align: top;\n",
       "    }\n",
       "\n",
       "    .dataframe thead th {\n",
       "        text-align: right;\n",
       "    }\n",
       "</style>\n",
       "<table border=\"1\" class=\"dataframe\">\n",
       "  <thead>\n",
       "    <tr style=\"text-align: right;\">\n",
       "      <th></th>\n",
       "      <th>Sales Amount</th>\n",
       "      <th>Profit</th>\n",
       "      <th>Units Sold</th>\n",
       "    </tr>\n",
       "  </thead>\n",
       "  <tbody>\n",
       "    <tr>\n",
       "      <th>count</th>\n",
       "      <td>150.000000</td>\n",
       "      <td>150.000000</td>\n",
       "      <td>150.000000</td>\n",
       "    </tr>\n",
       "    <tr>\n",
       "      <th>mean</th>\n",
       "      <td>1020.360067</td>\n",
       "      <td>266.083400</td>\n",
       "      <td>26.480000</td>\n",
       "    </tr>\n",
       "    <tr>\n",
       "      <th>std</th>\n",
       "      <td>538.964078</td>\n",
       "      <td>125.980592</td>\n",
       "      <td>15.588552</td>\n",
       "    </tr>\n",
       "    <tr>\n",
       "      <th>min</th>\n",
       "      <td>108.260000</td>\n",
       "      <td>50.550000</td>\n",
       "      <td>1.000000</td>\n",
       "    </tr>\n",
       "    <tr>\n",
       "      <th>25%</th>\n",
       "      <td>494.065000</td>\n",
       "      <td>171.870000</td>\n",
       "      <td>12.000000</td>\n",
       "    </tr>\n",
       "    <tr>\n",
       "      <th>50%</th>\n",
       "      <td>1030.180000</td>\n",
       "      <td>261.120000</td>\n",
       "      <td>27.000000</td>\n",
       "    </tr>\n",
       "    <tr>\n",
       "      <th>75%</th>\n",
       "      <td>1466.235000</td>\n",
       "      <td>368.697500</td>\n",
       "      <td>40.000000</td>\n",
       "    </tr>\n",
       "    <tr>\n",
       "      <th>max</th>\n",
       "      <td>1975.490000</td>\n",
       "      <td>499.200000</td>\n",
       "      <td>50.000000</td>\n",
       "    </tr>\n",
       "  </tbody>\n",
       "</table>\n",
       "</div>"
      ],
      "text/plain": [
       "       Sales Amount      Profit  Units Sold\n",
       "count    150.000000  150.000000  150.000000\n",
       "mean    1020.360067  266.083400   26.480000\n",
       "std      538.964078  125.980592   15.588552\n",
       "min      108.260000   50.550000    1.000000\n",
       "25%      494.065000  171.870000   12.000000\n",
       "50%     1030.180000  261.120000   27.000000\n",
       "75%     1466.235000  368.697500   40.000000\n",
       "max     1975.490000  499.200000   50.000000"
      ]
     },
     "execution_count": 13,
     "metadata": {},
     "output_type": "execute_result"
    }
   ],
   "source": [
    "df.describe() "
   ]
  },
  {
   "cell_type": "code",
   "execution_count": 15,
   "id": "10643867-5e2b-492b-a82b-2329da91eb33",
   "metadata": {},
   "outputs": [
    {
     "data": {
      "text/plain": [
       "0"
      ]
     },
     "execution_count": 15,
     "metadata": {},
     "output_type": "execute_result"
    }
   ],
   "source": [
    "df.duplicated().sum()"
   ]
  },
  {
   "cell_type": "code",
   "execution_count": 27,
   "id": "f5c7a656-9267-40b7-a0d8-1d372c90e99f",
   "metadata": {},
   "outputs": [
    {
     "name": "stderr",
     "output_type": "stream",
     "text": [
      "C:\\Users\\rathi\\AppData\\Local\\Temp\\ipykernel_4812\\1620795514.py:6: FutureWarning: \n",
      "\n",
      "Passing `palette` without assigning `hue` is deprecated and will be removed in v0.14.0. Assign the `x` variable to `hue` and set `legend=False` for the same effect.\n",
      "\n",
      "  sns.barplot(x=total_units_sold.index, y=total_units_sold.values, palette='viridis')  # Creates a bar graph.\n"
     ]
    },
    {
     "data": {
      "image/png": "[encoded data removed]",
      "text/plain": [
       "<Figure size 1200x600 with 1 Axes>"
      ]
     },
     "metadata": {},
     "output_type": "display_data"
    }
   ],
   "source": [
    "plt.figure(figsize=(12, 6))  # Creates a new figure with specified size.\n",
    "\n",
    "# Assuming 'Product' is the column with product names and 'Units Sold' is the quantity sold\n",
    "total_units_sold = df.groupby('Product')['Units Sold'].sum().sort_values(ascending=False)\n",
    "\n",
    "sns.barplot(x=total_units_sold.index, y=total_units_sold.values, palette='viridis')  # Creates a bar graph.\n",
    "plt.title('Total Units Sold by Product')  # Adds a title to the plot.\n",
    "plt.xlabel('Product')  # Label for x-axis.\n",
    "plt.ylabel('Total Units Sold')  # Label for y-axis.\n",
    "plt.xticks(rotation=45)  # Rotates x-axis labels for better readability.\n",
    "plt.show()"
   ]
  },
  {
   "cell_type": "code",
   "execution_count": 33,
   "id": "642af047-63e8-428d-8c98-5d573149f21b",
   "metadata": {},
   "outputs": [
    {
     "name": "stderr",
     "output_type": "stream",
     "text": [
      "C:\\Users\\rathi\\AppData\\Local\\Temp\\ipykernel_4812\\4052013589.py:4: FutureWarning: \n",
      "\n",
      "The `ci` parameter is deprecated. Use `errorbar=None` for the same effect.\n",
      "\n",
      "  sns.barplot(data=df, x='Sales Rep', y='Sales Amount', ci=None, palette='coolwarm')\n",
      "C:\\Users\\rathi\\AppData\\Local\\Temp\\ipykernel_4812\\4052013589.py:4: FutureWarning: \n",
      "\n",
      "Passing `palette` without assigning `hue` is deprecated and will be removed in v0.14.0. Assign the `x` variable to `hue` and set `legend=False` for the same effect.\n",
      "\n",
      "  sns.barplot(data=df, x='Sales Rep', y='Sales Amount', ci=None, palette='coolwarm')\n"
     ]
    },
    {
     "data": {
      "image/png": "[encoded data removed]",
      "text/plain": [
       "<Figure size 1000x600 with 1 Axes>"
      ]
     },
     "metadata": {},
     "output_type": "display_data"
    }
   ],
   "source": [
    "plt.figure(figsize=(10, 6))  # Creates a new figure with a specific size.\n",
    "\n",
    "# Creates a barplot showing the average sales amount by sales representative.\n",
    "sns.barplot(data=df, x='Sales Rep', y='Sales Amount', ci=None, palette='coolwarm')\n",
    "\n",
    "# Adds a title and labels for the plot.\n",
    "plt.title('Average Sales Amount by Sales Representative')\n",
    "plt.xlabel('Sales Representative')\n",
    "plt.ylabel('Average Sales Amount')\n",
    "\n",
    "# Adjusts the x-axis labels for better readability.\n",
    "plt.xticks(rotation=45)  # Rotates x-axis labels if sales rep names are long.\n",
    "plt.show()  # Displays the plot."
   ]
  },
  {
   "cell_type": "code",
   "execution_count": 35,
   "id": "4055cb75-c5a4-4686-99ba-5e9ff222d344",
   "metadata": {},
   "outputs": [
    {
     "data": {
      "text/html": [
       "<div>\n",
       "<style scoped>\n",
       "    .dataframe tbody tr th:only-of-type {\n",
       "        vertical-align: middle;\n",
       "    }\n",
       "\n",
       "    .dataframe tbody tr th {\n",
       "        vertical-align: top;\n",
       "    }\n",
       "\n",
       "    .dataframe thead th {\n",
       "        text-align: right;\n",
       "    }\n",
       "</style>\n",
       "<table border=\"1\" class=\"dataframe\">\n",
       "  <thead>\n",
       "    <tr style=\"text-align: right;\">\n",
       "      <th></th>\n",
       "      <th>Sales Amount</th>\n",
       "      <th>Profit</th>\n",
       "      <th>Units Sold</th>\n",
       "    </tr>\n",
       "  </thead>\n",
       "  <tbody>\n",
       "    <tr>\n",
       "      <th>Sales Amount</th>\n",
       "      <td>1.000000</td>\n",
       "      <td>-0.011024</td>\n",
       "      <td>-0.075776</td>\n",
       "    </tr>\n",
       "    <tr>\n",
       "      <th>Profit</th>\n",
       "      <td>-0.011024</td>\n",
       "      <td>1.000000</td>\n",
       "      <td>-0.089977</td>\n",
       "    </tr>\n",
       "    <tr>\n",
       "      <th>Units Sold</th>\n",
       "      <td>-0.075776</td>\n",
       "      <td>-0.089977</td>\n",
       "      <td>1.000000</td>\n",
       "    </tr>\n",
       "  </tbody>\n",
       "</table>\n",
       "</div>"
      ],
      "text/plain": [
       "              Sales Amount    Profit  Units Sold\n",
       "Sales Amount      1.000000 -0.011024   -0.075776\n",
       "Profit           -0.011024  1.000000   -0.089977\n",
       "Units Sold       -0.075776 -0.089977    1.000000"
      ]
     },
     "execution_count": 35,
     "metadata": {},
     "output_type": "execute_result"
    }
   ],
   "source": [
    "numeric_df = df.select_dtypes(include=['number'])\n",
    "\n",
    "# Check correlation matrix\n",
    "numeric_df.corr()\n"
   ]
  },
  {
   "cell_type": "code",
   "execution_count": 37,
   "id": "0ed1520c-b158-4ddb-888b-4618ec3db979",
   "metadata": {},
   "outputs": [
    {
     "data": {
      "image/png": "[encoded data removed]",
      "text/plain": [
       "<Figure size 1000x600 with 2 Axes>"
      ]
     },
     "metadata": {},
     "output_type": "display_data"
    }
   ],
   "source": [
    "plt.figure(figsize=(10, 6))\n",
    "sns.heatmap(numeric_df.corr(), annot=True, cmap='YlGnBu')\n",
    "plt.title('Correlation Heatmap')\n",
    "plt.show()"
   ]
  },
  {
   "cell_type": "code",
   "execution_count": null,
   "id": "b7a02d2c-7be2-4e23-96f9-911a2b972df9",
   "metadata": {},
   "outputs": [],
   "source": []
  }
 ],
 "metadata": {
  "kernelspec": {
   "display_name": "Python 3 (ipykernel)",
   "language": "python",
   "name": "python3"
  },
  "language_info": {
   "codemirror_mode": {
    "name": "ipython",
    "version": 3
   },
   "file_extension": ".py",
   "mimetype": "text/x-python",
   "name": "python",
   "nbconvert_exporter": "python",
   "pygments_lexer": "ipython3",
   "version": "3.12.4"
  }
 },
 "nbformat": 4,
 "nbformat_minor": 5
}
